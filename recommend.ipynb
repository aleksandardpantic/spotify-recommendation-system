{
 "cells": [
  {
   "cell_type": "code",
   "execution_count": 86,
   "metadata": {
    "collapsed": true,
    "ExecuteTime": {
     "end_time": "2023-08-10T17:19:39.451479800Z",
     "start_time": "2023-08-10T17:19:38.821318200Z"
    }
   },
   "outputs": [],
   "source": [
    "import numpy as np\n",
    "import spotipy\n",
    "from spotipy.oauth2 import SpotifyClientCredentials\n",
    "from collections import defaultdict\n",
    "import pandas as pd\n",
    "import api\n",
    "\n",
    "\n",
    "data = pd.read_csv('input/data.csv')\n",
    "\n",
    "sp = spotipy.Spotify(auth_manager=SpotifyClientCredentials(client_id=api.CLIENT_ID,\n",
    "                                                           client_secret=api.CLIENT_SECRET))"
   ]
  },
  {
   "cell_type": "code",
   "execution_count": 87,
   "outputs": [],
   "source": [
    "\n",
    "relevant_features = ['valence', 'acousticness', 'danceability', 'energy',\n",
    "               'instrumentalness', 'key', 'liveness', 'loudness',\n",
    "               'mode', 'speechiness', 'tempo']\n",
    "X = data.loc[:,relevant_features]"
   ],
   "metadata": {
    "collapsed": false,
    "ExecuteTime": {
     "end_time": "2023-08-10T17:19:39.466631500Z",
     "start_time": "2023-08-10T17:19:39.460645300Z"
    }
   }
  },
  {
   "cell_type": "code",
   "execution_count": 88,
   "outputs": [],
   "source": [
    "def find_song(name, artist):\n",
    "    song_data = defaultdict()\n",
    "    results = sp.search(q='track: {} artist: {}'.format(name, artist), limit=1)\n",
    "    if not results['tracks']['items']:\n",
    "        return None\n",
    "\n",
    "    results = results['tracks']['items'][0]\n",
    "    track_id = results['id']\n",
    "    audio_features = sp.audio_features(track_id)[0]\n",
    "    print('yo')\n",
    "    song_data['name'] = [name]\n",
    "    song_data['explicit'] = [int(results['explicit'])]\n",
    "    song_data['duration_ms'] = [results['duration_ms']]\n",
    "    song_data['popularity'] = [results['popularity']]\n",
    "\n",
    "    for key, value in audio_features.items():\n",
    "        song_data[key] = value\n",
    "\n",
    "    return pd.DataFrame(song_data)\n"
   ],
   "metadata": {
    "collapsed": false,
    "ExecuteTime": {
     "end_time": "2023-08-10T17:19:39.493559700Z",
     "start_time": "2023-08-10T17:19:39.469623200Z"
    }
   }
  },
  {
   "cell_type": "code",
   "execution_count": 89,
   "outputs": [],
   "source": [
    "def get_song_data(song):\n",
    "\n",
    "\n",
    "    song_data = data[data.name.str.contains(song['name'],case=False)\n",
    "                     & data.artists.str.contains(song['artist'], case=False)]\n",
    "\n",
    "    if len(song_data) == 0:\n",
    "        song_data = find_song(song['name'], song['artist'])\n",
    "    return song_data\n",
    "\n",
    "\n",
    "\n"
   ],
   "metadata": {
    "collapsed": false,
    "ExecuteTime": {
     "end_time": "2023-08-10T17:19:39.498546400Z",
     "start_time": "2023-08-10T17:19:39.485582Z"
    }
   }
  },
  {
   "cell_type": "code",
   "execution_count": 90,
   "outputs": [
    {
     "data": {
      "text/plain": "   valence  acousticness  danceability  energy  instrumentalness  key  \\\n0   0.0594         0.982         0.279   0.211          0.878000   10   \n1   0.9630         0.732         0.819   0.341          0.000000    7   \n2   0.0394         0.961         0.328   0.166          0.913000    3   \n3   0.1650         0.967         0.275   0.309          0.000028    5   \n4   0.2530         0.957         0.418   0.193          0.000002    3   \n\n   liveness  loudness  mode  speechiness    tempo  \n0     0.665   -20.096     1       0.0366   80.954  \n1     0.160   -12.441     1       0.4150   60.936  \n2     0.101   -14.850     1       0.0339  110.339  \n3     0.381    -9.316     1       0.0354  100.109  \n4     0.229   -10.096     1       0.0380  101.665  ",
      "text/html": "<div>\n<style scoped>\n    .dataframe tbody tr th:only-of-type {\n        vertical-align: middle;\n    }\n\n    .dataframe tbody tr th {\n        vertical-align: top;\n    }\n\n    .dataframe thead th {\n        text-align: right;\n    }\n</style>\n<table border=\"1\" class=\"dataframe\">\n  <thead>\n    <tr style=\"text-align: right;\">\n      <th></th>\n      <th>valence</th>\n      <th>acousticness</th>\n      <th>danceability</th>\n      <th>energy</th>\n      <th>instrumentalness</th>\n      <th>key</th>\n      <th>liveness</th>\n      <th>loudness</th>\n      <th>mode</th>\n      <th>speechiness</th>\n      <th>tempo</th>\n    </tr>\n  </thead>\n  <tbody>\n    <tr>\n      <th>0</th>\n      <td>0.0594</td>\n      <td>0.982</td>\n      <td>0.279</td>\n      <td>0.211</td>\n      <td>0.878000</td>\n      <td>10</td>\n      <td>0.665</td>\n      <td>-20.096</td>\n      <td>1</td>\n      <td>0.0366</td>\n      <td>80.954</td>\n    </tr>\n    <tr>\n      <th>1</th>\n      <td>0.9630</td>\n      <td>0.732</td>\n      <td>0.819</td>\n      <td>0.341</td>\n      <td>0.000000</td>\n      <td>7</td>\n      <td>0.160</td>\n      <td>-12.441</td>\n      <td>1</td>\n      <td>0.4150</td>\n      <td>60.936</td>\n    </tr>\n    <tr>\n      <th>2</th>\n      <td>0.0394</td>\n      <td>0.961</td>\n      <td>0.328</td>\n      <td>0.166</td>\n      <td>0.913000</td>\n      <td>3</td>\n      <td>0.101</td>\n      <td>-14.850</td>\n      <td>1</td>\n      <td>0.0339</td>\n      <td>110.339</td>\n    </tr>\n    <tr>\n      <th>3</th>\n      <td>0.1650</td>\n      <td>0.967</td>\n      <td>0.275</td>\n      <td>0.309</td>\n      <td>0.000028</td>\n      <td>5</td>\n      <td>0.381</td>\n      <td>-9.316</td>\n      <td>1</td>\n      <td>0.0354</td>\n      <td>100.109</td>\n    </tr>\n    <tr>\n      <th>4</th>\n      <td>0.2530</td>\n      <td>0.957</td>\n      <td>0.418</td>\n      <td>0.193</td>\n      <td>0.000002</td>\n      <td>3</td>\n      <td>0.229</td>\n      <td>-10.096</td>\n      <td>1</td>\n      <td>0.0380</td>\n      <td>101.665</td>\n    </tr>\n  </tbody>\n</table>\n</div>"
     },
     "execution_count": 90,
     "metadata": {},
     "output_type": "execute_result"
    }
   ],
   "source": [
    "data[relevant_features].head()"
   ],
   "metadata": {
    "collapsed": false,
    "ExecuteTime": {
     "end_time": "2023-08-10T17:19:39.545524700Z",
     "start_time": "2023-08-10T17:19:39.500541900Z"
    }
   }
  },
  {
   "cell_type": "code",
   "execution_count": 91,
   "outputs": [],
   "source": [
    "# from sklearn.compose import ColumnTransformer\n",
    "# from sklearn.preprocessing import StandardScaler, MinMaxScaler\n",
    "#\n",
    "# cols_to_transform = [0,1,2,3,4,5,6,7,8,9,10]\n",
    "# transformer = ColumnTransformer(transformers=[('scaler', StandardScaler(), cols_to_transform)], remainder='passthrough')\n",
    "#\n",
    "#\n",
    "# scaled_data = pd.DataFrame(transformer.fit_transform(data[relevant_features]), columns=transformer.get_feature_names_out())"
   ],
   "metadata": {
    "collapsed": false,
    "ExecuteTime": {
     "end_time": "2023-08-10T17:19:39.554500300Z",
     "start_time": "2023-08-10T17:19:39.531561600Z"
    }
   }
  },
  {
   "cell_type": "code",
   "execution_count": 92,
   "outputs": [],
   "source": [
    "# scaler = StandardScaler()\n",
    "# scaled_data = scaler.fit_transform(data[relevant_features])"
   ],
   "metadata": {
    "collapsed": false,
    "ExecuteTime": {
     "end_time": "2023-08-10T17:19:39.562053700Z",
     "start_time": "2023-08-10T17:19:39.548516600Z"
    }
   }
  },
  {
   "cell_type": "code",
   "execution_count": 93,
   "outputs": [],
   "source": [
    "song_name = input('Enter song name: ')\n",
    "artist = input('Enter artist name: ')\n"
   ],
   "metadata": {
    "collapsed": false,
    "ExecuteTime": {
     "end_time": "2023-08-10T17:19:52.140900700Z",
     "start_time": "2023-08-10T17:19:39.564049700Z"
    }
   }
  },
  {
   "cell_type": "code",
   "execution_count": 94,
   "outputs": [
    {
     "name": "stdout",
     "output_type": "stream",
     "text": [
      "yo\n"
     ]
    },
    {
     "data": {
      "text/plain": "                         name  explicit  duration_ms  popularity  \\\n0  beautiful maria of my soul         0       252467          31   \n\n   danceability  energy  key  loudness  mode  speechiness  ...  \\\n0         0.593   0.312    7   -10.639     0       0.0258  ...   \n\n   instrumentalness  liveness  valence   tempo            type  \\\n0          0.000025     0.434    0.506  91.508  audio_features   \n\n                       id                                   uri  \\\n0  6ugaw1nIeza8vfIF0uvTzz  spotify:track:6ugaw1nIeza8vfIF0uvTzz   \n\n                                          track_href  \\\n0  https://api.spotify.com/v1/tracks/6ugaw1nIeza8...   \n\n                                        analysis_url time_signature  \n0  https://api.spotify.com/v1/audio-analysis/6uga...              4  \n\n[1 rows x 21 columns]",
      "text/html": "<div>\n<style scoped>\n    .dataframe tbody tr th:only-of-type {\n        vertical-align: middle;\n    }\n\n    .dataframe tbody tr th {\n        vertical-align: top;\n    }\n\n    .dataframe thead th {\n        text-align: right;\n    }\n</style>\n<table border=\"1\" class=\"dataframe\">\n  <thead>\n    <tr style=\"text-align: right;\">\n      <th></th>\n      <th>name</th>\n      <th>explicit</th>\n      <th>duration_ms</th>\n      <th>popularity</th>\n      <th>danceability</th>\n      <th>energy</th>\n      <th>key</th>\n      <th>loudness</th>\n      <th>mode</th>\n      <th>speechiness</th>\n      <th>...</th>\n      <th>instrumentalness</th>\n      <th>liveness</th>\n      <th>valence</th>\n      <th>tempo</th>\n      <th>type</th>\n      <th>id</th>\n      <th>uri</th>\n      <th>track_href</th>\n      <th>analysis_url</th>\n      <th>time_signature</th>\n    </tr>\n  </thead>\n  <tbody>\n    <tr>\n      <th>0</th>\n      <td>beautiful maria of my soul</td>\n      <td>0</td>\n      <td>252467</td>\n      <td>31</td>\n      <td>0.593</td>\n      <td>0.312</td>\n      <td>7</td>\n      <td>-10.639</td>\n      <td>0</td>\n      <td>0.0258</td>\n      <td>...</td>\n      <td>0.000025</td>\n      <td>0.434</td>\n      <td>0.506</td>\n      <td>91.508</td>\n      <td>audio_features</td>\n      <td>6ugaw1nIeza8vfIF0uvTzz</td>\n      <td>spotify:track:6ugaw1nIeza8vfIF0uvTzz</td>\n      <td>https://api.spotify.com/v1/tracks/6ugaw1nIeza8...</td>\n      <td>https://api.spotify.com/v1/audio-analysis/6uga...</td>\n      <td>4</td>\n    </tr>\n  </tbody>\n</table>\n<p>1 rows × 21 columns</p>\n</div>"
     },
     "execution_count": 94,
     "metadata": {},
     "output_type": "execute_result"
    }
   ],
   "source": [
    "song = {'name': song_name, 'artist': artist}\n",
    "\n",
    "song_data = get_song_data(song)\n",
    "song_data"
   ],
   "metadata": {
    "collapsed": false,
    "ExecuteTime": {
     "end_time": "2023-08-10T17:19:52.736170800Z",
     "start_time": "2023-08-10T17:19:52.115967500Z"
    }
   }
  },
  {
   "cell_type": "code",
   "execution_count": 95,
   "outputs": [
    {
     "data": {
      "text/plain": "   valence  acousticness  danceability  energy  instrumentalness  key  \\\n0    0.506         0.623         0.593   0.312          0.000025    7   \n\n   liveness  loudness  mode  speechiness   tempo  \n0     0.434   -10.639     0       0.0258  91.508  ",
      "text/html": "<div>\n<style scoped>\n    .dataframe tbody tr th:only-of-type {\n        vertical-align: middle;\n    }\n\n    .dataframe tbody tr th {\n        vertical-align: top;\n    }\n\n    .dataframe thead th {\n        text-align: right;\n    }\n</style>\n<table border=\"1\" class=\"dataframe\">\n  <thead>\n    <tr style=\"text-align: right;\">\n      <th></th>\n      <th>valence</th>\n      <th>acousticness</th>\n      <th>danceability</th>\n      <th>energy</th>\n      <th>instrumentalness</th>\n      <th>key</th>\n      <th>liveness</th>\n      <th>loudness</th>\n      <th>mode</th>\n      <th>speechiness</th>\n      <th>tempo</th>\n    </tr>\n  </thead>\n  <tbody>\n    <tr>\n      <th>0</th>\n      <td>0.506</td>\n      <td>0.623</td>\n      <td>0.593</td>\n      <td>0.312</td>\n      <td>0.000025</td>\n      <td>7</td>\n      <td>0.434</td>\n      <td>-10.639</td>\n      <td>0</td>\n      <td>0.0258</td>\n      <td>91.508</td>\n    </tr>\n  </tbody>\n</table>\n</div>"
     },
     "execution_count": 95,
     "metadata": {},
     "output_type": "execute_result"
    }
   ],
   "source": [
    "\n",
    "song_data = song_data[relevant_features]\n",
    "song_data"
   ],
   "metadata": {
    "collapsed": false,
    "ExecuteTime": {
     "end_time": "2023-08-10T17:19:52.797033200Z",
     "start_time": "2023-08-10T17:19:52.739163600Z"
    }
   }
  },
  {
   "cell_type": "code",
   "execution_count": 96,
   "outputs": [],
   "source": [
    "song_data = song_data.iloc[0,:].values.reshape(1,-1)"
   ],
   "metadata": {
    "collapsed": false,
    "ExecuteTime": {
     "end_time": "2023-08-10T17:19:52.827775300Z",
     "start_time": "2023-08-10T17:19:52.769082600Z"
    }
   }
  },
  {
   "cell_type": "code",
   "execution_count": 97,
   "outputs": [],
   "source": [
    "# scaled_song_data = pd.DataFrame(transformer.transform(song_data), columns=transformer.get_feature_names_out())\n",
    "# scaled_song_data"
   ],
   "metadata": {
    "collapsed": false,
    "ExecuteTime": {
     "end_time": "2023-08-10T17:19:52.827775300Z",
     "start_time": "2023-08-10T17:19:52.784042700Z"
    }
   }
  },
  {
   "cell_type": "code",
   "execution_count": 98,
   "outputs": [],
   "source": [
    "# scaled_song_data = scaler.transform(song_data)\n",
    "# scaled_song_data"
   ],
   "metadata": {
    "collapsed": false,
    "ExecuteTime": {
     "end_time": "2023-08-10T17:19:52.847749100Z",
     "start_time": "2023-08-10T17:19:52.801993900Z"
    }
   }
  },
  {
   "cell_type": "code",
   "execution_count": 99,
   "outputs": [],
   "source": [
    "from scipy.spatial.distance import cdist\n",
    "\n",
    "distances = cdist(song_data, X, 'cosine')"
   ],
   "metadata": {
    "collapsed": false,
    "ExecuteTime": {
     "end_time": "2023-08-10T17:19:52.867697600Z",
     "start_time": "2023-08-10T17:19:52.816805800Z"
    }
   }
  },
  {
   "cell_type": "code",
   "execution_count": 100,
   "outputs": [
    {
     "data": {
      "text/plain": "[39779, 33079, 82513, 45489, 40456]"
     },
     "execution_count": 100,
     "metadata": {},
     "output_type": "execute_result"
    }
   ],
   "source": [
    "index = list(np.argsort(distances)[:, :5][0])\n",
    "index"
   ],
   "metadata": {
    "collapsed": false,
    "ExecuteTime": {
     "end_time": "2023-08-10T17:19:52.935522100Z",
     "start_time": "2023-08-10T17:19:52.848721Z"
    }
   }
  },
  {
   "cell_type": "code",
   "execution_count": 101,
   "outputs": [],
   "source": [
    "\n",
    "rec_songs = data.iloc[index]\n",
    "rec_songs = rec_songs.loc[:,['name', 'artists', 'release_date', 'id']]"
   ],
   "metadata": {
    "collapsed": false,
    "ExecuteTime": {
     "end_time": "2023-08-10T17:19:52.970450700Z",
     "start_time": "2023-08-10T17:19:52.881631700Z"
    }
   }
  },
  {
   "cell_type": "code",
   "execution_count": 102,
   "outputs": [],
   "source": [
    "rec_songs.to_csv('recommendations1.csv', index=False)"
   ],
   "metadata": {
    "collapsed": false,
    "ExecuteTime": {
     "end_time": "2023-08-10T17:19:52.970450700Z",
     "start_time": "2023-08-10T17:19:52.899584Z"
    }
   }
  }
 ],
 "metadata": {
  "kernelspec": {
   "display_name": "Python 3",
   "language": "python",
   "name": "python3"
  },
  "language_info": {
   "codemirror_mode": {
    "name": "ipython",
    "version": 2
   },
   "file_extension": ".py",
   "mimetype": "text/x-python",
   "name": "python",
   "nbconvert_exporter": "python",
   "pygments_lexer": "ipython2",
   "version": "2.7.6"
  }
 },
 "nbformat": 4,
 "nbformat_minor": 0
}
