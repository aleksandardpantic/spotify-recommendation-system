{
 "cells": [
  {
   "cell_type": "code",
   "execution_count": 18,
   "metadata": {
    "collapsed": true,
    "ExecuteTime": {
     "end_time": "2023-08-16T17:23:52.592565400Z",
     "start_time": "2023-08-16T17:23:51.976913900Z"
    }
   },
   "outputs": [],
   "source": [
    "import numpy as np\n",
    "import spotipy\n",
    "from spotipy.oauth2 import SpotifyClientCredentials\n",
    "from collections import defaultdict\n",
    "import pandas as pd\n",
    "import api #gitignored, private\n",
    "\n",
    "\n",
    "data = pd.read_csv('input/data.csv')\n",
    "\n",
    "sp = spotipy.Spotify(auth_manager=SpotifyClientCredentials(client_id=api.CLIENT_ID,\n",
    "                                                           client_secret=api.CLIENT_SECRET))"
   ]
  },
  {
   "cell_type": "code",
   "execution_count": 19,
   "outputs": [],
   "source": [
    "\n",
    "relevant_features = ['popularity','valence', 'acousticness', 'danceability', 'energy',\n",
    "               'instrumentalness', 'key', 'liveness', 'loudness',\n",
    "               'mode', 'speechiness', 'tempo']\n",
    "X = data.loc[:,relevant_features]"
   ],
   "metadata": {
    "collapsed": false,
    "ExecuteTime": {
     "end_time": "2023-08-16T17:23:52.608186Z",
     "start_time": "2023-08-16T17:23:52.608186Z"
    }
   }
  },
  {
   "cell_type": "code",
   "execution_count": 20,
   "outputs": [],
   "source": [
    "def find_song(name, artist):\n",
    "    \"\"\"Spotify API call that returns track based on query\"\"\"\n",
    "    song_data = defaultdict()\n",
    "    results = sp.search(q='track: {} artist: {}'.format(name, artist), limit=1)\n",
    "    if not results['tracks']['items']:\n",
    "        return None\n",
    "\n",
    "    results = results['tracks']['items'][0]\n",
    "    track_id = results['id']\n",
    "    audio_features = sp.audio_features(track_id)[0]\n",
    "    print('API call')\n",
    "    song_data['name'] = [name]\n",
    "    song_data['artist'] = [artist]\n",
    "    song_data['explicit'] = [int(results['explicit'])]\n",
    "    song_data['duration_ms'] = [results['duration_ms']]\n",
    "    song_data['popularity'] = [results['popularity']]\n",
    "\n",
    "    for key, value in audio_features.items():\n",
    "        song_data[key] = value\n",
    "\n",
    "    return pd.DataFrame(song_data)\n"
   ],
   "metadata": {
    "collapsed": false,
    "ExecuteTime": {
     "end_time": "2023-08-16T17:23:52.623807Z",
     "start_time": "2023-08-16T17:23:52.608186Z"
    }
   }
  },
  {
   "cell_type": "code",
   "execution_count": 21,
   "outputs": [],
   "source": [
    "def get_song_data(song):\n",
    "    \"\"\"Tries to find song in dataset, if can't then makes API call\"\"\"\n",
    "\n",
    "    song_data = data[data.name.str.contains(song['name'],case=False)\n",
    "                     & data.artists.str.contains(song['artist'], case=False)]\n",
    "\n",
    "    if len(song_data) == 0:\n",
    "        song_data = find_song(song['name'], song['artist'])\n",
    "    return song_data\n",
    "\n",
    "\n",
    "\n"
   ],
   "metadata": {
    "collapsed": false,
    "ExecuteTime": {
     "end_time": "2023-08-16T17:23:52.639428500Z",
     "start_time": "2023-08-16T17:23:52.623807Z"
    }
   }
  },
  {
   "cell_type": "code",
   "execution_count": 22,
   "outputs": [
    {
     "data": {
      "text/plain": "   popularity  valence  acousticness  danceability  energy  instrumentalness  \\\n0           4   0.0594         0.982         0.279   0.211          0.878000   \n1           5   0.9630         0.732         0.819   0.341          0.000000   \n2           5   0.0394         0.961         0.328   0.166          0.913000   \n3           3   0.1650         0.967         0.275   0.309          0.000028   \n4           2   0.2530         0.957         0.418   0.193          0.000002   \n\n   key  liveness  loudness  mode  speechiness    tempo  \n0   10     0.665   -20.096     1       0.0366   80.954  \n1    7     0.160   -12.441     1       0.4150   60.936  \n2    3     0.101   -14.850     1       0.0339  110.339  \n3    5     0.381    -9.316     1       0.0354  100.109  \n4    3     0.229   -10.096     1       0.0380  101.665  ",
      "text/html": "<div>\n<style scoped>\n    .dataframe tbody tr th:only-of-type {\n        vertical-align: middle;\n    }\n\n    .dataframe tbody tr th {\n        vertical-align: top;\n    }\n\n    .dataframe thead th {\n        text-align: right;\n    }\n</style>\n<table border=\"1\" class=\"dataframe\">\n  <thead>\n    <tr style=\"text-align: right;\">\n      <th></th>\n      <th>popularity</th>\n      <th>valence</th>\n      <th>acousticness</th>\n      <th>danceability</th>\n      <th>energy</th>\n      <th>instrumentalness</th>\n      <th>key</th>\n      <th>liveness</th>\n      <th>loudness</th>\n      <th>mode</th>\n      <th>speechiness</th>\n      <th>tempo</th>\n    </tr>\n  </thead>\n  <tbody>\n    <tr>\n      <th>0</th>\n      <td>4</td>\n      <td>0.0594</td>\n      <td>0.982</td>\n      <td>0.279</td>\n      <td>0.211</td>\n      <td>0.878000</td>\n      <td>10</td>\n      <td>0.665</td>\n      <td>-20.096</td>\n      <td>1</td>\n      <td>0.0366</td>\n      <td>80.954</td>\n    </tr>\n    <tr>\n      <th>1</th>\n      <td>5</td>\n      <td>0.9630</td>\n      <td>0.732</td>\n      <td>0.819</td>\n      <td>0.341</td>\n      <td>0.000000</td>\n      <td>7</td>\n      <td>0.160</td>\n      <td>-12.441</td>\n      <td>1</td>\n      <td>0.4150</td>\n      <td>60.936</td>\n    </tr>\n    <tr>\n      <th>2</th>\n      <td>5</td>\n      <td>0.0394</td>\n      <td>0.961</td>\n      <td>0.328</td>\n      <td>0.166</td>\n      <td>0.913000</td>\n      <td>3</td>\n      <td>0.101</td>\n      <td>-14.850</td>\n      <td>1</td>\n      <td>0.0339</td>\n      <td>110.339</td>\n    </tr>\n    <tr>\n      <th>3</th>\n      <td>3</td>\n      <td>0.1650</td>\n      <td>0.967</td>\n      <td>0.275</td>\n      <td>0.309</td>\n      <td>0.000028</td>\n      <td>5</td>\n      <td>0.381</td>\n      <td>-9.316</td>\n      <td>1</td>\n      <td>0.0354</td>\n      <td>100.109</td>\n    </tr>\n    <tr>\n      <th>4</th>\n      <td>2</td>\n      <td>0.2530</td>\n      <td>0.957</td>\n      <td>0.418</td>\n      <td>0.193</td>\n      <td>0.000002</td>\n      <td>3</td>\n      <td>0.229</td>\n      <td>-10.096</td>\n      <td>1</td>\n      <td>0.0380</td>\n      <td>101.665</td>\n    </tr>\n  </tbody>\n</table>\n</div>"
     },
     "execution_count": 22,
     "metadata": {},
     "output_type": "execute_result"
    }
   ],
   "source": [
    "data[relevant_features].head()"
   ],
   "metadata": {
    "collapsed": false,
    "ExecuteTime": {
     "end_time": "2023-08-16T17:23:52.670671100Z",
     "start_time": "2023-08-16T17:23:52.639428500Z"
    }
   }
  },
  {
   "cell_type": "code",
   "execution_count": 23,
   "outputs": [],
   "source": [
    "# from sklearn.compose import ColumnTransformer\n",
    "# from sklearn.preprocessing import StandardScaler, MinMaxScaler\n",
    "#\n",
    "# cols_to_transform = [0,1,2,3,4,5,6,7,8,9,10]\n",
    "# transformer = ColumnTransformer(transformers=[('scaler', StandardScaler(), cols_to_transform)], remainder='passthrough')\n",
    "#\n",
    "#\n",
    "# scaled_data = pd.DataFrame(transformer.fit_transform(data[relevant_features]), columns=transformer.get_feature_names_out())"
   ],
   "metadata": {
    "collapsed": false,
    "ExecuteTime": {
     "end_time": "2023-08-16T17:23:52.701913300Z",
     "start_time": "2023-08-16T17:23:52.670671100Z"
    }
   }
  },
  {
   "cell_type": "code",
   "execution_count": 24,
   "outputs": [],
   "source": [
    "# scaler = StandardScaler()\n",
    "# scaled_data = scaler.fit_transform(data[relevant_features])"
   ],
   "metadata": {
    "collapsed": false,
    "ExecuteTime": {
     "end_time": "2023-08-16T17:23:52.701913300Z",
     "start_time": "2023-08-16T17:23:52.686292200Z"
    }
   }
  },
  {
   "cell_type": "code",
   "execution_count": 25,
   "outputs": [],
   "source": [
    "song_name = input('Enter song name: ')\n",
    "artist = input('Enter artist name: ')\n"
   ],
   "metadata": {
    "collapsed": false,
    "ExecuteTime": {
     "end_time": "2023-08-16T17:24:00.341656300Z",
     "start_time": "2023-08-16T17:23:52.701913300Z"
    }
   }
  },
  {
   "cell_type": "markdown",
   "source": [
    "Shows data of song that was found"
   ],
   "metadata": {
    "collapsed": false
   }
  },
  {
   "cell_type": "code",
   "execution_count": 26,
   "outputs": [
    {
     "name": "stdout",
     "output_type": "stream",
     "text": [
      "API call\n"
     ]
    },
    {
     "data": {
      "text/plain": "      name       artist  explicit  duration_ms  popularity  danceability  \\\n0  flowers  miley cyrus         0       200455          93         0.707   \n\n   energy  key  loudness  mode  ...  instrumentalness  liveness  valence  \\\n0   0.681    0    -4.325     1  ...          0.000005    0.0322    0.646   \n\n     tempo            type                      id  \\\n0  117.999  audio_features  4DHcnVTT87F0zZhRPYmZ3B   \n\n                                    uri  \\\n0  spotify:track:4DHcnVTT87F0zZhRPYmZ3B   \n\n                                          track_href  \\\n0  https://api.spotify.com/v1/tracks/4DHcnVTT87F0...   \n\n                                        analysis_url time_signature  \n0  https://api.spotify.com/v1/audio-analysis/4DHc...              4  \n\n[1 rows x 22 columns]",
      "text/html": "<div>\n<style scoped>\n    .dataframe tbody tr th:only-of-type {\n        vertical-align: middle;\n    }\n\n    .dataframe tbody tr th {\n        vertical-align: top;\n    }\n\n    .dataframe thead th {\n        text-align: right;\n    }\n</style>\n<table border=\"1\" class=\"dataframe\">\n  <thead>\n    <tr style=\"text-align: right;\">\n      <th></th>\n      <th>name</th>\n      <th>artist</th>\n      <th>explicit</th>\n      <th>duration_ms</th>\n      <th>popularity</th>\n      <th>danceability</th>\n      <th>energy</th>\n      <th>key</th>\n      <th>loudness</th>\n      <th>mode</th>\n      <th>...</th>\n      <th>instrumentalness</th>\n      <th>liveness</th>\n      <th>valence</th>\n      <th>tempo</th>\n      <th>type</th>\n      <th>id</th>\n      <th>uri</th>\n      <th>track_href</th>\n      <th>analysis_url</th>\n      <th>time_signature</th>\n    </tr>\n  </thead>\n  <tbody>\n    <tr>\n      <th>0</th>\n      <td>flowers</td>\n      <td>miley cyrus</td>\n      <td>0</td>\n      <td>200455</td>\n      <td>93</td>\n      <td>0.707</td>\n      <td>0.681</td>\n      <td>0</td>\n      <td>-4.325</td>\n      <td>1</td>\n      <td>...</td>\n      <td>0.000005</td>\n      <td>0.0322</td>\n      <td>0.646</td>\n      <td>117.999</td>\n      <td>audio_features</td>\n      <td>4DHcnVTT87F0zZhRPYmZ3B</td>\n      <td>spotify:track:4DHcnVTT87F0zZhRPYmZ3B</td>\n      <td>https://api.spotify.com/v1/tracks/4DHcnVTT87F0...</td>\n      <td>https://api.spotify.com/v1/audio-analysis/4DHc...</td>\n      <td>4</td>\n    </tr>\n  </tbody>\n</table>\n<p>1 rows × 22 columns</p>\n</div>"
     },
     "execution_count": 26,
     "metadata": {},
     "output_type": "execute_result"
    }
   ],
   "source": [
    "song = {'name': song_name, 'artist': artist}\n",
    "\n",
    "song_data = get_song_data(song)\n",
    "song_data"
   ],
   "metadata": {
    "collapsed": false,
    "ExecuteTime": {
     "end_time": "2023-08-16T17:24:00.853206300Z",
     "start_time": "2023-08-16T17:24:00.333618100Z"
    }
   }
  },
  {
   "cell_type": "code",
   "execution_count": 27,
   "outputs": [
    {
     "data": {
      "text/plain": "   popularity  valence  acousticness  danceability  energy  instrumentalness  \\\n0          93    0.646        0.0632         0.707   0.681          0.000005   \n\n   key  liveness  loudness  mode  speechiness    tempo  \n0    0    0.0322    -4.325     1       0.0668  117.999  ",
      "text/html": "<div>\n<style scoped>\n    .dataframe tbody tr th:only-of-type {\n        vertical-align: middle;\n    }\n\n    .dataframe tbody tr th {\n        vertical-align: top;\n    }\n\n    .dataframe thead th {\n        text-align: right;\n    }\n</style>\n<table border=\"1\" class=\"dataframe\">\n  <thead>\n    <tr style=\"text-align: right;\">\n      <th></th>\n      <th>popularity</th>\n      <th>valence</th>\n      <th>acousticness</th>\n      <th>danceability</th>\n      <th>energy</th>\n      <th>instrumentalness</th>\n      <th>key</th>\n      <th>liveness</th>\n      <th>loudness</th>\n      <th>mode</th>\n      <th>speechiness</th>\n      <th>tempo</th>\n    </tr>\n  </thead>\n  <tbody>\n    <tr>\n      <th>0</th>\n      <td>93</td>\n      <td>0.646</td>\n      <td>0.0632</td>\n      <td>0.707</td>\n      <td>0.681</td>\n      <td>0.000005</td>\n      <td>0</td>\n      <td>0.0322</td>\n      <td>-4.325</td>\n      <td>1</td>\n      <td>0.0668</td>\n      <td>117.999</td>\n    </tr>\n  </tbody>\n</table>\n</div>"
     },
     "execution_count": 27,
     "metadata": {},
     "output_type": "execute_result"
    }
   ],
   "source": [
    "\n",
    "song_data = song_data[relevant_features]\n",
    "song_data"
   ],
   "metadata": {
    "collapsed": false,
    "ExecuteTime": {
     "end_time": "2023-08-16T17:24:00.868827500Z",
     "start_time": "2023-08-16T17:24:00.853206300Z"
    }
   }
  },
  {
   "cell_type": "code",
   "execution_count": 28,
   "outputs": [],
   "source": [
    "song_data = song_data.iloc[0,:].values.reshape(1,-1)"
   ],
   "metadata": {
    "collapsed": false,
    "ExecuteTime": {
     "end_time": "2023-08-16T17:24:00.931313800Z",
     "start_time": "2023-08-16T17:24:00.868827500Z"
    }
   }
  },
  {
   "cell_type": "code",
   "execution_count": 29,
   "outputs": [],
   "source": [
    "# scaled_song_data = pd.DataFrame(transformer.transform(song_data), columns=transformer.get_feature_names_out())\n",
    "# scaled_song_data"
   ],
   "metadata": {
    "collapsed": false,
    "ExecuteTime": {
     "end_time": "2023-08-16T17:24:00.931313800Z",
     "start_time": "2023-08-16T17:24:00.884485300Z"
    }
   }
  },
  {
   "cell_type": "code",
   "execution_count": 30,
   "outputs": [],
   "source": [
    "# scaled_song_data = scaler.transform(song_data)\n",
    "# scaled_song_data"
   ],
   "metadata": {
    "collapsed": false,
    "ExecuteTime": {
     "end_time": "2023-08-16T17:24:01.009418200Z",
     "start_time": "2023-08-16T17:24:00.900073200Z"
    }
   }
  },
  {
   "cell_type": "markdown",
   "source": [
    "Returns cosine similarity for each song in data"
   ],
   "metadata": {
    "collapsed": false
   }
  },
  {
   "cell_type": "code",
   "execution_count": 31,
   "outputs": [],
   "source": [
    "from scipy.spatial.distance import cdist\n",
    "\n",
    "distances = cdist(song_data, X, 'cosine')"
   ],
   "metadata": {
    "collapsed": false,
    "ExecuteTime": {
     "end_time": "2023-08-16T17:24:01.009418200Z",
     "start_time": "2023-08-16T17:24:00.915692700Z"
    }
   }
  },
  {
   "cell_type": "markdown",
   "source": [
    "Returns 5 closest, most similar songs, by id"
   ],
   "metadata": {
    "collapsed": false
   }
  },
  {
   "cell_type": "code",
   "execution_count": 32,
   "outputs": [
    {
     "data": {
      "text/plain": "[16269, 37892, 91808, 18856, 18008]"
     },
     "execution_count": 32,
     "metadata": {},
     "output_type": "execute_result"
    }
   ],
   "source": [
    "index = list(np.argsort(distances)[:, :5][0])\n",
    "index"
   ],
   "metadata": {
    "collapsed": false,
    "ExecuteTime": {
     "end_time": "2023-08-16T17:24:01.071936200Z",
     "start_time": "2023-08-16T17:24:00.946933900Z"
    }
   }
  },
  {
   "cell_type": "markdown",
   "source": [
    "Returns recommended songs as a pandas dataset"
   ],
   "metadata": {
    "collapsed": false
   }
  },
  {
   "cell_type": "code",
   "execution_count": 33,
   "outputs": [],
   "source": [
    "\n",
    "rec_songs = data.iloc[index]\n",
    "rec_songs = rec_songs.loc[:,['name', 'artists', 'release_date', 'id']]"
   ],
   "metadata": {
    "collapsed": false,
    "ExecuteTime": {
     "end_time": "2023-08-16T17:24:01.071936200Z",
     "start_time": "2023-08-16T17:24:00.978176900Z"
    }
   }
  },
  {
   "cell_type": "markdown",
   "source": [
    "Saves recommendations to csv"
   ],
   "metadata": {
    "collapsed": false
   }
  },
  {
   "cell_type": "code",
   "execution_count": 34,
   "outputs": [],
   "source": [
    "rec_songs.to_csv('recommendations.csv', index=False)"
   ],
   "metadata": {
    "collapsed": false,
    "ExecuteTime": {
     "end_time": "2023-08-16T17:24:01.071936200Z",
     "start_time": "2023-08-16T17:24:01.009418200Z"
    }
   }
  }
 ],
 "metadata": {
  "kernelspec": {
   "display_name": "Python 3",
   "language": "python",
   "name": "python3"
  },
  "language_info": {
   "codemirror_mode": {
    "name": "ipython",
    "version": 2
   },
   "file_extension": ".py",
   "mimetype": "text/x-python",
   "name": "python",
   "nbconvert_exporter": "python",
   "pygments_lexer": "ipython2",
   "version": "2.7.6"
  }
 },
 "nbformat": 4,
 "nbformat_minor": 0
}
